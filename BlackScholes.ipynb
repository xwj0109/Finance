{
 "cells": [
  {
   "cell_type": "code",
   "execution_count": 2,
   "metadata": {},
   "outputs": [],
   "source": [
    "import pandas as pd\n",
    "import numpy as np\n",
    "import yfinance as yf\n",
    "from yahoo_fin import options \n",
    "from pandas_datareader import data as pdr\n",
    "from datetime import datetime\n",
    "\n",
    "\n"
   ]
  },
  {
   "cell_type": "code",
   "execution_count": 3,
   "metadata": {},
   "outputs": [
    {
     "name": "stdout",
     "output_type": "stream",
     "text": [
      "{'price': 711.3871917884749, 'delta': 0.5595778998332818, 'gamma': 0.00022964593442015407, 'vega': 38.263467284908195, 'theta': -4.328406849717006, 'rho': 58.46317523162954}\n"
     ]
    }
   ],
   "source": [
    "from scipy.stats import norm\n",
    "import numpy as np\n",
    "\n",
    "def black_scholes_greeks(S, K, T, r, sigma, option_type='call'):\n",
    "    \"\"\"\n",
    "    Calculate Black-Scholes price and Greeks for European options.\n",
    "\n",
    "    Parameters:\n",
    "    S : float - current stock price\n",
    "    K : float - strike price\n",
    "    T : float - time to expiry (in years)\n",
    "    r : float - risk-free interest rate (annual)\n",
    "    sigma : float - volatility of the stock price (annual)\n",
    "    option_type : str - 'call' for call option, 'put' for put option\n",
    "\n",
    "    Returns:\n",
    "    dict: A dictionary containing the option price and Greeks\n",
    "    \"\"\"\n",
    "\n",
    "    # Calculate d1 and d2\n",
    "    d1 = (np.log(S / K) + (r + 0.5 * sigma ** 2) * T) / (sigma * np.sqrt(T))\n",
    "    d2 = d1 - sigma * np.sqrt(T)\n",
    "\n",
    "    if option_type == 'call':\n",
    "        price = S * norm.cdf(d1) - K * np.exp(-r * T) * norm.cdf(d2)\n",
    "        delta = norm.cdf(d1)\n",
    "    elif option_type == 'put':\n",
    "        price = K * np.exp(-r * T) * norm.cdf(-d2) - S * norm.cdf(-d1)\n",
    "        delta = -norm.cdf(-d1)\n",
    "        theta = (((-S * norm.pdf(d1) * sigma / (2 * np.sqrt(T)) - r * K * np.exp(-r * T) * norm.cdf(d2))) + r * K * np.exp(-r * T)) / 52 # weekly\n",
    "    else:\n",
    "        raise ValueError(\"Invalid option type. Use 'call' or 'put'.\")\n",
    "\n",
    "    # Greeks\n",
    "    gamma = norm.pdf(d1) / (S * sigma * np.sqrt(T))\n",
    "    vega = S * norm.pdf(d1) * np.sqrt(T) / 100\n",
    "    theta = (-S * norm.pdf(d1) * sigma / (2 * np.sqrt(T)) - r * K * np.exp(-r * T) * norm.cdf(d2)) / 52 # weekly\n",
    "    rho = K * T * np.exp(-r * T) * norm.cdf(d2) / 100\n",
    "\n",
    "    return {\n",
    "        'price': price,\n",
    "        'delta': delta,\n",
    "        'gamma': gamma,\n",
    "        'vega': vega,\n",
    "        'theta': theta,\n",
    "        'rho': rho\n",
    "    }\n",
    "\n",
    "# Example usage:\n",
    "S = 7473.14  # Current stock price \n",
    "K = 7500     # Strike price \n",
    "T = 87.6/52      # Time to expiry in years \n",
    "r = 0.006901    # Risk-free interest rate \n",
    "sigma = 0.1771 # Volatility \n",
    "\n",
    "# Calculate for a call option\n",
    "results = black_scholes_greeks(S, K, T, r, sigma, option_type='call')\n",
    "print(results)"
   ]
  },
  {
   "cell_type": "code",
   "execution_count": null,
   "metadata": {},
   "outputs": [],
   "source": []
  }
 ],
 "metadata": {
  "kernelspec": {
   "display_name": "Python 3",
   "language": "python",
   "name": "python3"
  },
  "language_info": {
   "codemirror_mode": {
    "name": "ipython",
    "version": 3
   },
   "file_extension": ".py",
   "mimetype": "text/x-python",
   "name": "python",
   "nbconvert_exporter": "python",
   "pygments_lexer": "ipython3",
   "version": "3.11.1"
  },
  "orig_nbformat": 4,
  "vscode": {
   "interpreter": {
    "hash": "aee8b7b246df8f9039afb4144a1f6fd8d2ca17a180786b69acc140d282b71a49"
   }
  }
 },
 "nbformat": 4,
 "nbformat_minor": 2
}
